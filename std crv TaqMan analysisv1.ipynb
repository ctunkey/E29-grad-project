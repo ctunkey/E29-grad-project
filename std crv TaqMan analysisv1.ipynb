{
 "cells": [
  {
   "cell_type": "code",
   "execution_count": 16,
   "metadata": {
    "collapsed": true
   },
   "outputs": [],
   "source": [
    "%matplotlib inline\n",
    "import matplotlib.pyplot as plt \n",
    "import pandas as pd\n",
    "import numpy as np"
   ]
  },
  {
   "cell_type": "code",
   "execution_count": 17,
   "metadata": {
    "collapsed": true
   },
   "outputs": [],
   "source": [
    "#bring in your data, jump to the right worksheet, skip some header rows\n",
    "df = pd.read_excel('2018-04-10 150108.xls', sheetname='Results', skiprows= 40)\n",
    "df.loc[df['Task'] == 'NTC', 'Sample Name'] = 'NTC'\n",
    "df.loc[df['Task'] == 'STANDARD', 'Sample Name'] = 'STANDARD'                                                                           \n",
    "df = df.loc[:, ['Sample Name','CT','Target Name','Quantity','Quantity Mean','Quantity SD']]\n",
    "df.fillna(0, inplace=True)\n",
    "# df.head()\n",
    "df.to_csv('moda.csv')"
   ]
  },
  {
   "cell_type": "code",
   "execution_count": 18,
   "metadata": {
    "collapsed": true
   },
   "outputs": [],
   "source": [
    "#now we have a few rows with undetermined values, we'll clean things up here for dtype consistency\n",
    "#so will replace 'undetermined' with 40, then change the dtype of the column\n",
    "df.loc[df['CT'] == 'Undetermined', 'CT'] = 40\n",
    "df['CT'] = df['CT'].apply(pd.to_numeric)\n",
    "df.to_csv('modb.csv')\n",
    "# df.dtypes"
   ]
  },
  {
   "cell_type": "code",
   "execution_count": 19,
   "metadata": {
    "collapsed": true
   },
   "outputs": [],
   "source": [
    "def f(row):\n",
    "    if row.CT > 37:\n",
    "        return row['Sample Name']+'***'\n",
    "    else:\n",
    "        return row['Sample Name']\n",
    "\n",
    "df['Suspect Names'] = df.apply(f, axis=1)\n",
    "df.to_csv('modb.csv')"
   ]
  },
  {
   "cell_type": "code",
   "execution_count": 20,
   "metadata": {
    "collapsed": true
   },
   "outputs": [],
   "source": [
    "def g(row):\n",
    "    if row.CT > 37:\n",
    "        return 0\n",
    "    else:\n",
    "        return row['Quantity Mean']\n",
    "\n",
    "df['Quantity Mean1'] = df.apply(g, axis=1)\n",
    "df.to_csv('modc.csv')"
   ]
  },
  {
   "cell_type": "code",
   "execution_count": 21,
   "metadata": {
    "collapsed": true
   },
   "outputs": [],
   "source": [
    "def g(row):\n",
    "    if row.CT > 37:\n",
    "        return 0\n",
    "    else:\n",
    "        return row['Quantity SD']\n",
    "\n",
    "df['Quantity SD1'] = df.apply(g, axis=1)\n",
    "df.to_csv('modd.csv')"
   ]
  },
  {
   "cell_type": "code",
   "execution_count": 22,
   "metadata": {},
   "outputs": [
    {
     "data": {
      "text/html": [
       "<div>\n",
       "<style>\n",
       "    .dataframe thead tr:only-child th {\n",
       "        text-align: right;\n",
       "    }\n",
       "\n",
       "    .dataframe thead th {\n",
       "        text-align: left;\n",
       "    }\n",
       "\n",
       "    .dataframe tbody tr th {\n",
       "        vertical-align: top;\n",
       "    }\n",
       "</style>\n",
       "<table border=\"1\" class=\"dataframe\">\n",
       "  <thead>\n",
       "    <tr style=\"text-align: right;\">\n",
       "      <th></th>\n",
       "      <th>Sample Name</th>\n",
       "      <th>CT</th>\n",
       "      <th>Target Name</th>\n",
       "      <th>Quantity</th>\n",
       "      <th>Quantity Mean</th>\n",
       "      <th>Quantity SD</th>\n",
       "      <th>Suspect Names</th>\n",
       "      <th>Quantity Mean1</th>\n",
       "      <th>Quantity SD1</th>\n",
       "    </tr>\n",
       "  </thead>\n",
       "  <tbody>\n",
       "    <tr>\n",
       "      <th>155</th>\n",
       "      <td>NTC</td>\n",
       "      <td>40.0</td>\n",
       "      <td>209 KAN</td>\n",
       "      <td>0.0</td>\n",
       "      <td>0.0</td>\n",
       "      <td>0.0</td>\n",
       "      <td>NTC***</td>\n",
       "      <td>0.0</td>\n",
       "      <td>0.0</td>\n",
       "    </tr>\n",
       "    <tr>\n",
       "      <th>148</th>\n",
       "      <td>NTC</td>\n",
       "      <td>40.0</td>\n",
       "      <td>EPO set2</td>\n",
       "      <td>0.0</td>\n",
       "      <td>0.0</td>\n",
       "      <td>0.0</td>\n",
       "      <td>NTC***</td>\n",
       "      <td>0.0</td>\n",
       "      <td>0.0</td>\n",
       "    </tr>\n",
       "    <tr>\n",
       "      <th>154</th>\n",
       "      <td>NTC</td>\n",
       "      <td>40.0</td>\n",
       "      <td>209 KAN</td>\n",
       "      <td>0.0</td>\n",
       "      <td>0.0</td>\n",
       "      <td>0.0</td>\n",
       "      <td>NTC***</td>\n",
       "      <td>0.0</td>\n",
       "      <td>0.0</td>\n",
       "    </tr>\n",
       "    <tr>\n",
       "      <th>153</th>\n",
       "      <td>NTC</td>\n",
       "      <td>40.0</td>\n",
       "      <td>EPO set2</td>\n",
       "      <td>0.0</td>\n",
       "      <td>0.0</td>\n",
       "      <td>0.0</td>\n",
       "      <td>NTC***</td>\n",
       "      <td>0.0</td>\n",
       "      <td>0.0</td>\n",
       "    </tr>\n",
       "    <tr>\n",
       "      <th>152</th>\n",
       "      <td>NTC</td>\n",
       "      <td>40.0</td>\n",
       "      <td>EPO set2</td>\n",
       "      <td>0.0</td>\n",
       "      <td>0.0</td>\n",
       "      <td>0.0</td>\n",
       "      <td>NTC***</td>\n",
       "      <td>0.0</td>\n",
       "      <td>0.0</td>\n",
       "    </tr>\n",
       "  </tbody>\n",
       "</table>\n",
       "</div>"
      ],
      "text/plain": [
       "    Sample Name    CT Target Name  Quantity  Quantity Mean  Quantity SD  \\\n",
       "155         NTC  40.0     209 KAN       0.0            0.0          0.0   \n",
       "148         NTC  40.0    EPO set2       0.0            0.0          0.0   \n",
       "154         NTC  40.0     209 KAN       0.0            0.0          0.0   \n",
       "153         NTC  40.0    EPO set2       0.0            0.0          0.0   \n",
       "152         NTC  40.0    EPO set2       0.0            0.0          0.0   \n",
       "\n",
       "    Suspect Names  Quantity Mean1  Quantity SD1  \n",
       "155        NTC***             0.0           0.0  \n",
       "148        NTC***             0.0           0.0  \n",
       "154        NTC***             0.0           0.0  \n",
       "153        NTC***             0.0           0.0  \n",
       "152        NTC***             0.0           0.0  "
      ]
     },
     "execution_count": 22,
     "metadata": {},
     "output_type": "execute_result"
    }
   ],
   "source": [
    "df = df.sort_values(by='CT', ascending=False)\n",
    "df.head()"
   ]
  },
  {
   "cell_type": "code",
   "execution_count": 23,
   "metadata": {
    "collapsed": true
   },
   "outputs": [],
   "source": [
    "#finally, time to drop some pesky duplicate rows! and some sanity checks\n",
    "df = df.drop_duplicates(['Sample Name', 'Target Name'])\n",
    "df = df.loc[df['Sample Name'] != 'STANDARD']\n",
    "df.to_csv('mode.csv')\n",
    "#good looking file!!!"
   ]
  },
  {
   "cell_type": "code",
   "execution_count": 24,
   "metadata": {},
   "outputs": [
    {
     "data": {
      "text/html": [
       "<div>\n",
       "<style>\n",
       "    .dataframe thead tr:only-child th {\n",
       "        text-align: right;\n",
       "    }\n",
       "\n",
       "    .dataframe thead th {\n",
       "        text-align: left;\n",
       "    }\n",
       "\n",
       "    .dataframe tbody tr th {\n",
       "        vertical-align: top;\n",
       "    }\n",
       "</style>\n",
       "<table border=\"1\" class=\"dataframe\">\n",
       "  <thead>\n",
       "    <tr style=\"text-align: right;\">\n",
       "      <th></th>\n",
       "      <th>Sample Name</th>\n",
       "      <th>Suspect Names</th>\n",
       "      <th>Target Name</th>\n",
       "      <th>Quantity Mean1</th>\n",
       "      <th>Quantity SD1</th>\n",
       "    </tr>\n",
       "  </thead>\n",
       "  <tbody>\n",
       "    <tr>\n",
       "      <th>155</th>\n",
       "      <td>NTC</td>\n",
       "      <td>NTC***</td>\n",
       "      <td>209 KAN</td>\n",
       "      <td>0.000000e+00</td>\n",
       "      <td>0.000000e+00</td>\n",
       "    </tr>\n",
       "    <tr>\n",
       "      <th>148</th>\n",
       "      <td>NTC</td>\n",
       "      <td>NTC***</td>\n",
       "      <td>EPO set2</td>\n",
       "      <td>0.000000e+00</td>\n",
       "      <td>0.000000e+00</td>\n",
       "    </tr>\n",
       "    <tr>\n",
       "      <th>110</th>\n",
       "      <td>mRNA 0.03 RNaseI</td>\n",
       "      <td>mRNA 0.03 RNaseI***</td>\n",
       "      <td>209 KAN</td>\n",
       "      <td>0.000000e+00</td>\n",
       "      <td>0.000000e+00</td>\n",
       "    </tr>\n",
       "    <tr>\n",
       "      <th>130</th>\n",
       "      <td>mRNA 0.3 RNaseI</td>\n",
       "      <td>mRNA 0.3 RNaseI***</td>\n",
       "      <td>209 KAN</td>\n",
       "      <td>0.000000e+00</td>\n",
       "      <td>0.000000e+00</td>\n",
       "    </tr>\n",
       "    <tr>\n",
       "      <th>134</th>\n",
       "      <td>mRNA 0.01</td>\n",
       "      <td>mRNA 0.01</td>\n",
       "      <td>209 KAN</td>\n",
       "      <td>1.418906e-07</td>\n",
       "      <td>1.877650e-09</td>\n",
       "    </tr>\n",
       "  </tbody>\n",
       "</table>\n",
       "</div>"
      ],
      "text/plain": [
       "          Sample Name        Suspect Names Target Name  Quantity Mean1  \\\n",
       "155               NTC               NTC***     209 KAN    0.000000e+00   \n",
       "148               NTC               NTC***    EPO set2    0.000000e+00   \n",
       "110  mRNA 0.03 RNaseI  mRNA 0.03 RNaseI***     209 KAN    0.000000e+00   \n",
       "130   mRNA 0.3 RNaseI   mRNA 0.3 RNaseI***     209 KAN    0.000000e+00   \n",
       "134         mRNA 0.01            mRNA 0.01     209 KAN    1.418906e-07   \n",
       "\n",
       "     Quantity SD1  \n",
       "155  0.000000e+00  \n",
       "148  0.000000e+00  \n",
       "110  0.000000e+00  \n",
       "130  0.000000e+00  \n",
       "134  1.877650e-09  "
      ]
     },
     "execution_count": 24,
     "metadata": {},
     "output_type": "execute_result"
    }
   ],
   "source": [
    "df = df.loc[:, ['Sample Name', 'Suspect Names','Target Name', 'Quantity Mean1','Quantity SD1']]\n",
    "df.head()"
   ]
  },
  {
   "cell_type": "code",
   "execution_count": 25,
   "metadata": {},
   "outputs": [
    {
     "data": {
      "text/plain": [
       "array(['209 KAN', 'EPO set2'], dtype=object)"
      ]
     },
     "execution_count": 25,
     "metadata": {},
     "output_type": "execute_result"
    }
   ],
   "source": [
    "genes = df['Target Name'].unique()\n",
    "genes"
   ]
  },
  {
   "cell_type": "code",
   "execution_count": 26,
   "metadata": {
    "collapsed": true
   },
   "outputs": [],
   "source": [
    "def bahchaht(arrayoflabels, arrayofvalues, arrayofstd, genename):\n",
    "    N = len(arrayoflabels)\n",
    "    ind = np.arange(N)  # the x locations for the groups\n",
    "    width = 0.35       # the width of the bars\n",
    "    fig, ax = plt.subplots(figsize=(10,10))\n",
    "    rects1 = ax.bar(ind, arrayofvalues, width, color='r', yerr= arrayofstd)\n",
    "    ax.set_ylabel('Quantity')\n",
    "    ax.set_title(genename)\n",
    "#     plt.figure(figsize=(20,10))\n",
    "    ax.set_xticks(ind)# + width / 2)\n",
    "    plt.xticks(rotation=90)\n",
    "    ax.set_xticklabels(arrayoflabels)\n",
    "    fig.savefig(('genefig_'+genename+\".jpeg\"))"
   ]
  },
  {
   "cell_type": "code",
   "execution_count": 27,
   "metadata": {
    "collapsed": true
   },
   "outputs": [],
   "source": [
    "#now we want to allow the users to reorder the samples in the graph!!!\n",
    "#lets give them an excel file they can go fill out!!!\n",
    "names = df['Sample Name'].unique()\n",
    "names= pd.DataFrame(names)\n",
    "names.head()\n",
    "names.columns = ['Sample Name']\n",
    "names.to_excel('Sample Name.xlsx', index=False)"
   ]
  },
  {
   "cell_type": "markdown",
   "metadata": {},
   "source": [
    "HEY YOU CRAZY END USER, GO MODIFY THE 'Sample Name' EXCEL SHEET. ADD A SECOND COLUMN CALLED 'number' AND PUT THE NUMBER YOU'D LIKE YOUR SAMPLES ORDERED BY THERE. SAVE THE FILE."
   ]
  },
  {
   "cell_type": "code",
   "execution_count": 28,
   "metadata": {},
   "outputs": [
    {
     "data": {
      "text/html": [
       "<div>\n",
       "<style>\n",
       "    .dataframe thead tr:only-child th {\n",
       "        text-align: right;\n",
       "    }\n",
       "\n",
       "    .dataframe thead th {\n",
       "        text-align: left;\n",
       "    }\n",
       "\n",
       "    .dataframe tbody tr th {\n",
       "        vertical-align: top;\n",
       "    }\n",
       "</style>\n",
       "<table border=\"1\" class=\"dataframe\">\n",
       "  <thead>\n",
       "    <tr style=\"text-align: right;\">\n",
       "      <th></th>\n",
       "      <th>Sample Name</th>\n",
       "      <th>number</th>\n",
       "      <th>Suspect Names</th>\n",
       "      <th>Target Name</th>\n",
       "      <th>Quantity Mean1</th>\n",
       "      <th>Quantity SD1</th>\n",
       "    </tr>\n",
       "  </thead>\n",
       "  <tbody>\n",
       "    <tr>\n",
       "      <th>2</th>\n",
       "      <td>mRNA 0.03 RNaseI</td>\n",
       "      <td>1</td>\n",
       "      <td>mRNA 0.03 RNaseI***</td>\n",
       "      <td>209 KAN</td>\n",
       "      <td>0.000000e+00</td>\n",
       "      <td>0.000000e+00</td>\n",
       "    </tr>\n",
       "    <tr>\n",
       "      <th>3</th>\n",
       "      <td>mRNA 0.03 RNaseI</td>\n",
       "      <td>1</td>\n",
       "      <td>mRNA 0.03 RNaseI</td>\n",
       "      <td>EPO set2</td>\n",
       "      <td>1.963490e-06</td>\n",
       "      <td>4.065258e-08</td>\n",
       "    </tr>\n",
       "    <tr>\n",
       "      <th>4</th>\n",
       "      <td>mRNA 0.3 RNaseI</td>\n",
       "      <td>2</td>\n",
       "      <td>mRNA 0.3 RNaseI***</td>\n",
       "      <td>209 KAN</td>\n",
       "      <td>0.000000e+00</td>\n",
       "      <td>0.000000e+00</td>\n",
       "    </tr>\n",
       "    <tr>\n",
       "      <th>5</th>\n",
       "      <td>mRNA 0.3 RNaseI</td>\n",
       "      <td>2</td>\n",
       "      <td>mRNA 0.3 RNaseI</td>\n",
       "      <td>EPO set2</td>\n",
       "      <td>7.648369e-06</td>\n",
       "      <td>7.462705e-06</td>\n",
       "    </tr>\n",
       "    <tr>\n",
       "      <th>6</th>\n",
       "      <td>mRNA 0.01</td>\n",
       "      <td>3</td>\n",
       "      <td>mRNA 0.01</td>\n",
       "      <td>209 KAN</td>\n",
       "      <td>1.418906e-07</td>\n",
       "      <td>1.877650e-09</td>\n",
       "    </tr>\n",
       "  </tbody>\n",
       "</table>\n",
       "</div>"
      ],
      "text/plain": [
       "        Sample Name  number        Suspect Names Target Name  Quantity Mean1  \\\n",
       "2  mRNA 0.03 RNaseI       1  mRNA 0.03 RNaseI***     209 KAN    0.000000e+00   \n",
       "3  mRNA 0.03 RNaseI       1     mRNA 0.03 RNaseI    EPO set2    1.963490e-06   \n",
       "4   mRNA 0.3 RNaseI       2   mRNA 0.3 RNaseI***     209 KAN    0.000000e+00   \n",
       "5   mRNA 0.3 RNaseI       2      mRNA 0.3 RNaseI    EPO set2    7.648369e-06   \n",
       "6         mRNA 0.01       3            mRNA 0.01     209 KAN    1.418906e-07   \n",
       "\n",
       "   Quantity SD1  \n",
       "2  0.000000e+00  \n",
       "3  4.065258e-08  \n",
       "4  0.000000e+00  \n",
       "5  7.462705e-06  \n",
       "6  1.877650e-09  "
      ]
     },
     "execution_count": 28,
     "metadata": {},
     "output_type": "execute_result"
    }
   ],
   "source": [
    "names1 = pd.read_excel('Sample Name.xlsx')\n",
    "result = pd.merge(names1, df, on='Sample Name', how='outer')\n",
    "result = result.sort_values(by=['number'])\n",
    "result.head()"
   ]
  },
  {
   "cell_type": "code",
   "execution_count": 29,
   "metadata": {},
   "outputs": [
    {
     "name": "stdout",
     "output_type": "stream",
     "text": [
      "209 KAN\n",
      "EPO set2\n"
     ]
    },
    {
     "data": {
      "image/png": "[encoded data removed]",
      "text/plain": [
       "<matplotlib.figure.Figure at 0xb39b438>"
      ]
     },
     "metadata": {},
     "output_type": "display_data"
    },
    {
     "data": {
      "image/png": "[encoded data removed]",
      "text/plain": [
       "<matplotlib.figure.Figure at 0xb39b2e8>"
      ]
     },
     "metadata": {},
     "output_type": "display_data"
    }
   ],
   "source": [
    "for g in genes:\n",
    "    print(g)\n",
    "    aol = result.loc[result['Target Name'] == g]\n",
    "    arrayoflabels = np.array(aol['Suspect Names'])\n",
    "    arrayofvalues = np.array(aol['Quantity Mean1'])\n",
    "    arrayofstd = np.array(aol['Quantity SD1'])\n",
    "#     print(arrayoflabels)\n",
    "#     print(arrayofvalues)\n",
    "#     print(arrayofstd)\n",
    "    bahchaht(arrayoflabels, arrayofvalues, arrayofstd, g)"
   ]
  },
  {
   "cell_type": "code",
   "execution_count": null,
   "metadata": {
    "collapsed": true
   },
   "outputs": [],
   "source": []
  }
 ],
 "metadata": {
  "kernelspec": {
   "display_name": "Python 3",
   "language": "python",
   "name": "python3"
  },
  "language_info": {
   "codemirror_mode": {
    "name": "ipython",
    "version": 3
   },
   "file_extension": ".py",
   "mimetype": "text/x-python",
   "name": "python",
   "nbconvert_exporter": "python",
   "pygments_lexer": "ipython3",
   "version": "3.6.3"
  }
 },
 "nbformat": 4,
 "nbformat_minor": 2
}
